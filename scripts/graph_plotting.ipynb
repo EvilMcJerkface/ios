{
 "cells": [
  {
   "cell_type": "code",
   "execution_count": 218,
   "metadata": {
    "collapsed": false
   },
   "outputs": [
    {
     "name": "stdout",
     "output_type": "stream",
     "text": [
      "Populating the interactive namespace from numpy and matplotlib\n"
     ]
    },
    {
     "name": "stderr",
     "output_type": "stream",
     "text": [
      "WARNING: pylab import has clobbered these variables: ['rc', 'var']\n",
      "`%matplotlib` prevents importing * from pylab and numpy\n"
     ]
    }
   ],
   "source": [
    "%pylab inline\n",
    "\n",
    "from matplotlib import rc\n",
    "\n",
    "fig_font = {'family':'sans-serif','sans-serif':['Helvetica'],\n",
    "           'serif':['Helvetica'],'size':9}\n",
    "rc('font',**fig_font)\n",
    "rc('legend',fontsize=9, handletextpad=0.5)\n",
    "rc('text', usetex=True)\n",
    "rc('figure', figsize=(3.33,2.22))\n",
    "#  rc('figure.subplot', left=0.10, top=0.90, bottom=0.12, right=0.95)\n",
    "rc('axes', linewidth=0.5, color_cycle= ['#496ee2', '#8e053b', 'm', '#ef9708', 'g', 'c'])\n",
    "rc('lines', linewidth=1)\n",
    "import csv"
   ]
  },
  {
   "cell_type": "code",
   "execution_count": 219,
   "metadata": {
    "collapsed": true
   },
   "outputs": [],
   "source": [
    "def fig_to_file(fig, filename, ext):\n",
    "    fig.savefig(\"graphs/%s.%s\" % (filename, ext), format=ext, bbox_inches='tight')\n",
    "    \n",
    "    \n",
    "def draw_simple_plot(xlabel,ylabel,title,xdata,ydata):\n",
    "    fig = plt.figure()\n",
    "    axes = fig.add_axes([0.1, 0.1, 0.8, 0.8])\n",
    "\n",
    "    axes.set_xlabel(xlabel)\n",
    "    axes.set_ylabel(ylabel)\n",
    "    axes.set_title(title)\n",
    "    axes.plot(xdata,ydata,\"rx\")\n",
    "    return axes, fig \n",
    "    \n",
    "def draw_line_graph(xlabel,ylabel,title,xdata,ydata):\n",
    "    fig = plt.figure()\n",
    "    axes = fig.add_axes([0.1, 0.1, 0.8, 0.8])\n",
    "\n",
    "    axes.set_xlabel(xlabel)\n",
    "    axes.set_ylabel(ylabel)\n",
    "    axes.set_title(title)\n",
    "    axes.plot(xdata,ydata)\n",
    "    return axes, fig\n",
    "    \n",
    "def draw_lines_graph(xlabel,ylabel,title,xdata,ydata,lines):\n",
    "    fig = plt.figure()\n",
    "    axes = fig.add_axes([0.1, 0.1, 0.8, 0.8])\n",
    "\n",
    "    axes.set_xlabel(xlabel)\n",
    "    axes.set_ylabel(ylabel)\n",
    "    axes.set_title(title)\n",
    "\n",
    "    for line in lines:\n",
    "        axes.plot(xdata[line],ydata[line]) \n",
    "\n",
    "    axes.legend(lines,loc=1,frameon=True)\n",
    "    return axes, fig\n",
    "\n",
    "def draw_cdf(xlabel,title,data):\n",
    "    fig = plt.figure()\n",
    "    axes = fig.add_axes([0.1, 0.1, 0.8, 0.8])\n",
    "    axes.set_xlabel(xlabel)\n",
    "    axes.set_ylabel('Cumlative Propability')\n",
    "    axes.set_title(title)\n",
    "\n",
    "    axes.set_xlim([np.percentile(data,0),np.percentile(data,97)])\n",
    "    axes.set_ylim([0,100])\n",
    "    \n",
    "    sorted_data = data\n",
    "    sorted_data.sort()\n",
    "    size=len(sorted_data)\n",
    "    cdf_y = []\n",
    "    for y in range (1,size+1):\n",
    "        cdf_y.append(y*100.0/size)\n",
    "\n",
    "    axes.plot(sorted_data, cdf_y)\n",
    "    return axes, fig\n",
    "\n",
    "    \n",
    "def draw_cdfs(xlabel,title,data,lines):\n",
    "    fig = plt.figure()\n",
    "    axes = fig.add_axes([0.1, 0.1, 0.8, 0.8])\n",
    "    axes.set_xlabel(xlabel)\n",
    "    axes.set_ylabel('Cumlative Propability')\n",
    "    axes.set_title(title)\n",
    "\n",
    "    axes.set_xlim([0,5])\n",
    "    axes.set_ylim([0,100])\n",
    "    \n",
    "    sorted_data = {}\n",
    "    cdf_y = {}\n",
    "\n",
    "    for line in lines:\n",
    "        sorted_data[line] = data[line]\n",
    "        sorted_data[line].sort()\n",
    "        cdf_y[line]=[]\n",
    "        size=len(sorted_data[line])\n",
    "        for y in range (1,size+1):\n",
    "            cdf_y[line].append(y*100.0/size)\n",
    "            \n",
    "        axes.plot(sorted_data[line], cdf_y[line])\n",
    "\n",
    "    axes.legend(lines,loc=1,frameon=True)\n",
    "    return axes, fig\n",
    "\n",
    "def draw_histo(xlabel,title,data,bins):\n",
    "    fig = plt.figure()\n",
    "    axes = fig.add_axes([0.1, 0.1, 0.8, 0.8])\n",
    "\n",
    "    axes.set_xlabel(xlabel)\n",
    "    axes.set_ylabel('Probability')\n",
    "    axes.set_title(title)\n",
    "\n",
    "    n, bins, patches = axes.hist(data,bins,facecolor='green', normed=True, alpha=0.2)\n",
    "    return axes, fig\n",
    "    \n",
    "def draw_boxplot(ylabel,title,data):\n",
    "    fig = plt.figure()\n",
    "    axes = fig.add_axes([0.1, 0.1, 0.8, 0.8])\n",
    "\n",
    "    axes.set_ylabel(ylabel)\n",
    "    axes.set_title(title)\n",
    "    \n",
    "    axes.boxplot(data,showfliers=False)\n",
    "    return axes, fig\n",
    "    \n",
    "def draw_boxplots(xlabel,ylabel,title,data,lines):\n",
    "    fig = plt.figure()\n",
    "    axes = fig.add_axes([0.1, 0.1, 0.8, 0.8])\n",
    "\n",
    "    axes.set_ylabel(ylabel)\n",
    "    axes.set_xlabel(xlabel)\n",
    "    axes.set_title(title)\n",
    "    \n",
    "    axes.boxplot([ v for v in data.values() ],labels=lines,showfliers=False)\n",
    "    return axes, fig\n",
    "    \n",
    "def read_results_file(filename):\n",
    "    results = {'latency':[],'reqs':[],'time':[]}\n",
    "    start_time = 0.0\n",
    "    start_set = False\n",
    "    with open(filename, newline='') as csvfile:\n",
    "        for row in csv.reader(csvfile):\n",
    "            # latency in ms\n",
    "            val = int(row[2])/1000000 \n",
    "            results['latency'].append(val)\n",
    "            results['reqs'].append(row[1])\n",
    "\n",
    "            secs = float(row[0].rsplit(\" \")[1].rsplit(\":\")[2])\n",
    "            mins = float(row[0].rsplit(\" \")[1].rsplit(\":\")[1])*60.0 \n",
    "\n",
    "            # we assume all experiments run within an hour\n",
    "            if not(start_set):\n",
    "                start_time = secs+mins # time in secs\n",
    "                start_set = True\n",
    "\n",
    "            results['time'].append(((secs+mins) - start_time)*1000)\n",
    "    return results\n",
    "def latency_to_throughput(data):\n",
    "    total = np.sum(data)\n",
    "    measurements = len(data)\n",
    "    return (1000 * measurements / total)"
   ]
  },
  {
   "cell_type": "code",
   "execution_count": 220,
   "metadata": {
    "collapsed": true
   },
   "outputs": [],
   "source": [
    "date = '05-13-154317'\n",
    "res_dir = '../results/'+date+'/'"
   ]
  },
  {
   "cell_type": "code",
   "execution_count": 221,
   "metadata": {
    "collapsed": false
   },
   "outputs": [
    {
     "data": {
      "text/plain": [
       "(<matplotlib.axes._axes.Axes at 0x116680198>,\n",
       " <matplotlib.figure.Figure at 0x1165855c0>)"
      ]
     },
     "execution_count": 221,
     "metadata": {},
     "output_type": "execute_result"
    },
    {
     "data": {
      "image/png": "[encoded data removed]",
      "text/plain": [
       "<matplotlib.figure.Figure at 0x114c0e668>"
      ]
     },
     "metadata": {},
     "output_type": "display_data"
    },
    {
     "data": {
      "image/png": "[encoded data removed]",
      "text/plain": [
       "<matplotlib.figure.Figure at 0x114c0e198>"
      ]
     },
     "metadata": {},
     "output_type": "display_data"
    },
    {
     "data": {
      "image/png": "[encoded data removed]",
      "text/plain": [
       "<matplotlib.figure.Figure at 0x112af15f8>"
      ]
     },
     "metadata": {},
     "output_type": "display_data"
    },
    {
     "data": {
      "image/png": "[encoded data removed]",
      "text/plain": [
       "<matplotlib.figure.Figure at 0x1165855c0>"
      ]
     },
     "metadata": {},
     "output_type": "display_data"
    }
   ],
   "source": [
    "# SIMPLE: a simple 3 server and 1 client system\n",
    "\n",
    "simple = read_results_file(res_dir+'simple/results/latency_1.csv')\n",
    "\n",
    "draw_line_graph('Time (ms)', 'Latency (ms)', 'Commit latency for a simple system of 3 servers and 1 clients', \n",
    "                   simple['time'],simple['latency'])\n",
    "\n",
    "draw_line_graph('Request Number', 'Latency (ms)', 'Commit latency for a simple system of 3 servers and 1 clients', \n",
    "                   simple['reqs'],simple['latency'])\n",
    "draw_cdf('Commit latency (ms)', \n",
    "         'Commit Latency CDF for 3 servers and varying number of clients',\n",
    "         simple['latency'])\n",
    "\n",
    "draw_boxplot(\"latency\",\"box plot of commit latency\",simple['latency'])"
   ]
  },
  {
   "cell_type": "code",
   "execution_count": 222,
   "metadata": {
    "collapsed": false,
    "scrolled": true
   },
   "outputs": [],
   "source": [
    "# LOAD TESTING DATA \n",
    "\n",
    "\n",
    "clients = range(1,15)\n",
    "latency = {}\n",
    "latency_by_client = {}\n",
    "req_by_client = {}\n",
    "time_by_client = {}\n",
    "\n",
    "for c in clients:\n",
    "    latency[c]=[]\n",
    "    latency_by_client[c] = {}\n",
    "    req_by_client[c] = {}\n",
    "    time_by_client[c] = {}\n",
    "    for client in range(1,c+1):\n",
    "        res = read_results_file(res_dir+'load/'+str(c)+'c/results/latency_'+str(client)+'.csv')\n",
    "        latency_by_client[c][client] = res['latency']\n",
    "        latency[c] = latency[c] + (res['latency'])\n",
    "        req_by_client[c][client] = res['reqs']\n",
    "        time_by_client[c][client] = res['time']     "
   ]
  },
  {
   "cell_type": "code",
   "execution_count": 223,
   "metadata": {
    "collapsed": false,
    "scrolled": false
   },
   "outputs": [],
   "source": [
    "# plotting latency over actual time (for X client systems)\n",
    "\n",
    "# for c in clients:\n",
    "#     draw_lines_graph('Time (ms)', 'Latency (ms)', 'Commit latency for a system of 3 servers and '+str(c)+' clients', \n",
    "#                     time_by_client[c],latency_by_client[c],range(1,c+1))\n",
    "\n"
   ]
  },
  {
   "cell_type": "code",
   "execution_count": 224,
   "metadata": {
    "collapsed": false,
    "scrolled": false
   },
   "outputs": [],
   "source": [
    "# plotting latency over request time (for X client system)\n",
    "\n",
    "# for c in clients:\n",
    "#     draw_lines_graph('Request number','Latency (ms)','Commit latency for a system of 3 servers and '+str(c)+' clients',\n",
    "#                     req_by_client[c], latency_by_client[c], range(1,c+1))\n"
   ]
  },
  {
   "cell_type": "code",
   "execution_count": 225,
   "metadata": {
    "collapsed": false
   },
   "outputs": [
    {
     "data": {
      "image/png": "[encoded data removed]",
      "text/plain": [
       "<matplotlib.figure.Figure at 0x11197ecf8>"
      ]
     },
     "metadata": {},
     "output_type": "display_data"
    }
   ],
   "source": [
    "axes, fig = draw_boxplots(\"Number of Clients\",\"Commit Latency (ms)\",\"\",latency,clients)\n",
    "fig_to_file(fig,\"load_latency_boxplot\",\"pdf\")"
   ]
  },
  {
   "cell_type": "code",
   "execution_count": 226,
   "metadata": {
    "collapsed": false,
    "scrolled": false
   },
   "outputs": [],
   "source": [
    "# plot latency distribution (for X client system)\n",
    "\n",
    "# for c in clients:\n",
    "#     draw_histo('Commit latency (ms)',\n",
    "#                'Frequency distribution of commit latency for a '+str(c)+' client system',\n",
    "#                latency[c],50)\n",
    "\n"
   ]
  },
  {
   "cell_type": "code",
   "execution_count": 227,
   "metadata": {
    "collapsed": false
   },
   "outputs": [
    {
     "data": {
      "text/plain": [
       "(<matplotlib.axes._axes.Axes at 0x1139a14a8>,\n",
       " <matplotlib.figure.Figure at 0x111c97eb8>)"
      ]
     },
     "execution_count": 227,
     "metadata": {},
     "output_type": "execute_result"
    },
    {
     "data": {
      "image/png": "[encoded data removed]",
      "text/plain": [
       "<matplotlib.figure.Figure at 0x111c97eb8>"
      ]
     },
     "metadata": {},
     "output_type": "display_data"
    }
   ],
   "source": [
    "# plot simple CFD\n",
    "\n",
    "draw_cdfs('Commit latency (ms)', \n",
    "         'Commit Latency CDF for 3 servers and varying number of clients',\n",
    "         latency,[1,3,5,7,9])\n",
    "\n"
   ]
  },
  {
   "cell_type": "code",
   "execution_count": 231,
   "metadata": {
    "collapsed": false
   },
   "outputs": [
    {
     "name": "stdout",
     "output_type": "stream",
     "text": [
      "range(1, 15)\n",
      "[1935.7041541004785, 2279.3896255475365, 2114.8295167406086, 2111.2512829630355, 1947.2819080155323, 2119.8839651220906, 2122.7281380857535, 2017.7944742031191, 2116.6143146674754, 2103.9101787032728, 1923.2997958470264, 2033.2160443287062, 1883.7940732323846, 1966.0128541627257]\n",
      "[0.49540499999999998, 0.83439850000000004, 1.3183510000000001, 1.761422, 2.3560089999999998, 2.653378, 3.1055334999999999, 3.5681190000000003, 4.0014560000000001, 4.4674950000000004, 5.1987009999999998, 5.447165, 6.2664235000000001, 6.4039729999999997]\n"
     ]
    },
    {
     "data": {
      "image/png": "[encoded data removed]",
      "text/plain": [
       "<matplotlib.figure.Figure at 0x115f23080>"
      ]
     },
     "metadata": {},
     "output_type": "display_data"
    }
   ],
   "source": [
    "# plotting throughput vs latency\n",
    "\n",
    "medium_latency=[]\n",
    "throughput=[]\n",
    "\n",
    "for c in clients:\n",
    "    throughput.append(latency_to_throughput(latency[c])*c)\n",
    "    medium_latency.append(np.percentile(latency[c],50))\n",
    "    \n",
    "\n",
    "draw_simple_plot('Throughput (reqs/sec)','Latency (ms)','Throughput vs Latency for varying num of clients',throughput,medium_latency)\n",
    "print(clients)\n",
    "print(throughput)\n",
    "print(medium_latency)\n"
   ]
  },
  {
   "cell_type": "code",
   "execution_count": 232,
   "metadata": {
    "collapsed": false
   },
   "outputs": [
    {
     "data": {
      "image/png": "[encoded data removed]",
      "text/plain": [
       "<matplotlib.figure.Figure at 0x115e16ba8>"
      ]
     },
     "metadata": {},
     "output_type": "display_data"
    },
    {
     "data": {
      "image/png": "[encoded data removed]",
      "text/plain": [
       "<matplotlib.figure.Figure at 0x116ce0ac8>"
      ]
     },
     "metadata": {},
     "output_type": "display_data"
    }
   ],
   "source": [
    "fig = plt.figure()\n",
    "axes = fig.add_axes([0.1, 0.1, 0.8, 0.8])\n",
    "\n",
    "axes.set_xlabel('Number of clients')\n",
    "axes.set_ylabel('Latency (ms)')\n",
    "axes.set_title('Throughput vs Latency for varying num of clients')\n",
    "\n",
    "axes.plot(clients, medium_latency,\"bx-\") \n",
    "\n",
    "axes2 = axes.twinx()\n",
    "axes2.set_ylabel('Throughput (reqs/sec)')\n",
    "axes2.plot(clients, throughput,\"ro-\")\n",
    "\n",
    "axes, fig = draw_simple_plot('Number of clients','Throughput (reqs/sec)','',clients, throughput)\n",
    "axes.set_xlim([1,14])\n",
    "fig_to_file(fig,\"load_throughput\",\"pdf\")"
   ]
  },
  {
   "cell_type": "code",
   "execution_count": 230,
   "metadata": {
    "collapsed": false,
    "scrolled": false
   },
   "outputs": [
    {
     "ename": "IndentationError",
     "evalue": "unexpected indent (<ipython-input-230-fbd2a1f72096>, line 14)",
     "output_type": "error",
     "traceback": [
      "\u001b[0;36m  File \u001b[0;32m\"<ipython-input-230-fbd2a1f72096>\"\u001b[0;36m, line \u001b[0;32m14\u001b[0m\n\u001b[0;31m    scale['time'],scale['latency'])\u001b[0m\n\u001b[0m    ^\u001b[0m\n\u001b[0;31mIndentationError\u001b[0m\u001b[0;31m:\u001b[0m unexpected indent\n"
     ]
    }
   ],
   "source": [
    "# SCALE: for other numbers of servers\n",
    "\n",
    "serv_latency = {}\n",
    "serv_throughput = []\n",
    "servs = range(3,16)\n",
    "servs_less = range(3,16,2)\n",
    "\n",
    "\n",
    "for s in servs:\n",
    "    scale = read_results_file(res_dir+'scale/'+str(s)+'s/results/latency_1.csv')\n",
    "    serv_latency[s]= scale[\"latency\"]\n",
    "    serv_throughput.append(latency_to_throughput(scale[\"latency\"]))\n",
    "#     draw_line_graph('Time (ms)', 'Latency (ms)', 'Commit latency for a system of '+str(s)+' servers and 1 client', \n",
    "                   scale['time'],scale['latency'])\n",
    "    \n",
    "draw_cdfs('Commit latency (ms)','Commit Latency CDF for one client and varying number of servers',serv_latency,servs_less)\n",
    "\n",
    "draw_boxplots(\"Number of Servers\",\"Commit Latency\",\"Commit latency with various cluster sizes\",serv_latency,servs)\n",
    "\n",
    "draw_simple_plot(\"Number of servers\",\"Throughput (reqs/sec)\",\"Throughput for variable number of servers\",servs,serv_throughput)\n"
   ]
  },
  {
   "cell_type": "code",
   "execution_count": null,
   "metadata": {
    "collapsed": false
   },
   "outputs": [],
   "source": [
    "# FAILURE: testing master failure in a 5 node system\n",
    "\n",
    "simple = read_results_file(res_dir+'failure/results/latency_1.csv')\n",
    "\n",
    "axes = draw_line_graph('Time (ms)', 'Latency (ms)', 'Commit latency for a simple system of 3 servers and 1 clients', \n",
    "                   simple['time'],simple['latency'])\n",
    "\n",
    "#axes.axvline(60,0,7)\n",
    "\n",
    "draw_line_graph('Request Number', 'Latency (ms)', 'Commit latency for a simple system of 3 servers and 1 clients', \n",
    "                   simple['reqs'],simple['latency'])"
   ]
  },
  {
   "cell_type": "code",
   "execution_count": null,
   "metadata": {
    "collapsed": false
   },
   "outputs": [],
   "source": [
    "# READ: how does special treatment of read requests improve throughput and latency\n",
    "\n",
    "read_latency = {}\n",
    "read_time = {}\n",
    "\n",
    "read_medium_latency=[]\n",
    "read_throughput=[]\n",
    "\n",
    "perts = range(0,101,5)\n",
    "\n",
    "for pert in perts:\n",
    "    res = read_results_file(res_dir+'read/'+str(pert)+'r/results/latency_1.csv')\n",
    "    read_latency[pert] = res['latency']\n",
    "    read_time[pert] = res['time']   \n",
    "    read_throughput.append(latency_to_throughput(read_latency[pert]))\n",
    "    read_medium_latency.append(np.percentile(read_latency[pert],50))\n",
    "        \n",
    "fig = plt.figure(figsize=[12,4])\n",
    "axes = fig.add_axes([0.1, 0.1, 0.8, 0.8])\n",
    "\n",
    "axes.set_xlabel('Percentage of reads')\n",
    "axes.set_ylabel('Latency (ms)')\n",
    "axes.set_title('Throughput vs Latency for varying pertcentage of reads')\n",
    "\n",
    "axes.plot(perts, read_medium_latency,\"bx-\") \n",
    "\n",
    "axes2 = axes.twinx()\n",
    "axes2.set_ylabel('Throughput (reqs/sec)')\n",
    "axes2.plot(perts, read_throughput,\"ro-\") \n",
    " "
   ]
  },
  {
   "cell_type": "code",
   "execution_count": null,
   "metadata": {
    "collapsed": false
   },
   "outputs": [],
   "source": [
    "# BATCH: how does batching improve throughput\n",
    "\n",
    "def batch():\n",
    "    latency = {}\n",
    "    time = {}\n",
    "\n",
    "    medium_latency=[]\n",
    "    throughput=[]\n",
    "\n",
    "    var = list(map(lambda x : power(2,x),range(1,7)))\n",
    "\n",
    "    for v in var:\n",
    "        latency[v] = []\n",
    "        time[v] = []\n",
    "        throughput_per_client = []\n",
    "        for c in range(1,64+1):\n",
    "            res = read_results_file(res_dir+'batch/'+str(v)+'r/results/latency_'+str(c)+'.csv')\n",
    "            latency[v] = latency[v] + res['latency']\n",
    "            time[v] = time[v] + res['time']\n",
    "            throughput_per_client.append(latency_to_throughput(res['latency']))\n",
    "        throughput.append(sum(throughput_per_client))\n",
    "        medium_latency.append(np.percentile(latency[v],50))\n",
    "\n",
    "    fig = plt.figure(figsize=[12,4])\n",
    "    axes = fig.add_axes([0.1, 0.1, 0.8, 0.8])\n",
    "\n",
    "    axes.set_xlabel('Number of Clients')\n",
    "    axes.set_ylabel('Latency (ms)')\n",
    "    axes.set_title('Throughput vs Latency for varying pertcentage of reads')\n",
    "\n",
    "    axes.plot(var, medium_latency,\"bx-\") \n",
    "\n",
    "    axes2 = axes.twinx()\n",
    "    axes2.set_ylabel('Throughput (reqs/sec)')\n",
    "    axes2.plot(var, throughput,\"ro-\") \n",
    " \n",
    "batch()"
   ]
  },
  {
   "cell_type": "code",
   "execution_count": null,
   "metadata": {
    "collapsed": false
   },
   "outputs": [],
   "source": []
  },
  {
   "cell_type": "code",
   "execution_count": null,
   "metadata": {
    "collapsed": true
   },
   "outputs": [],
   "source": []
  }
 ],
 "metadata": {
  "kernelspec": {
   "display_name": "Python 3",
   "language": "python",
   "name": "python3"
  },
  "language_info": {
   "codemirror_mode": {
    "name": "ipython",
    "version": 3
   },
   "file_extension": ".py",
   "mimetype": "text/x-python",
   "name": "python",
   "nbconvert_exporter": "python",
   "pygments_lexer": "ipython3",
   "version": "3.4.2"
  }
 },
 "nbformat": 4,
 "nbformat_minor": 0
}
