{
 "cells": [
  {
   "cell_type": "code",
   "execution_count": 1,
   "metadata": {
    "collapsed": false
   },
   "outputs": [
    {
     "name": "stdout",
     "output_type": "stream",
     "text": [
      "Populating the interactive namespace from numpy and matplotlib\n"
     ]
    }
   ],
   "source": [
    "%pylab inline\n",
    "\n",
    "from matplotlib import rc\n",
    "\n",
    "fig_font = {'family':'sans-serif','sans-serif':['Helvetica'],\n",
    "           'serif':['Helvetica'],'size':14}\n",
    "rc('font',**fig_font)\n",
    "rc('legend',fontsize=14, handletextpad=0.5)\n",
    "rc('text', usetex=True)\n",
    "rc('figure', figsize=(3.33,2.22))\n",
    "#  rc('figure.subplot', left=0.10, top=0.90, bottom=0.12, right=0.95)\n",
    "rc('axes', linewidth=0.5, color_cycle= ['#496ee2', '#8e053b', 'm', '#ef9708', 'g', 'c'])\n",
    "rc('lines', linewidth=1)"
   ]
  },
  {
   "cell_type": "code",
   "execution_count": 2,
   "metadata": {
    "collapsed": true
   },
   "outputs": [],
   "source": [
    "def fig_to_file(fig, filename, ext):\n",
    "    fig.savefig(\"graphs/%s.%s\" % (filename, ext), format=ext, bbox_inches='tight')"
   ]
  },
  {
   "cell_type": "code",
   "execution_count": 27,
   "metadata": {
    "collapsed": false,
    "scrolled": true
   },
   "outputs": [
    {
     "name": "stdout",
     "output_type": "stream",
     "text": [
      "[24.916, 25.158, 25.638, 26.569, 28.251, 30.751, 37.931, 49.017, 522.191, 562.539, 589.734, 594.944, 600.116, 601.066, 611.68, 617.118, 637.526, 643.461, 661.024, 662.571, 666.251, 672.299, 672.68, 684.697, 697.025, 726.721, 727.237, 782.094, 790.294, 805.952, 844.324, 885.773, 1377.802, 2898.084, 8330929.407, 10310041.51]\n"
     ]
    }
   ],
   "source": [
    "import csv\n",
    "latency_all=[]\n",
    "for client in range(0,2):\n",
    "    with open('results/latency_'+str(client)+'.csv', newline='') as csvfile:\n",
    "        for row in csv.reader(csvfile):\n",
    "            latency_all.append(int(row[1])/1000)\n",
    "latency_all.sort()\n",
    "print(latency_all)"
   ]
  },
  {
   "cell_type": "code",
   "execution_count": 28,
   "metadata": {
    "collapsed": true
   },
   "outputs": [],
   "source": [
    "tcdf_y=[]\n",
    "size=len(latency_all)\n",
    "for y in range (1,size+1):\n",
    "    tcdf_y.append(y*100.0/size)"
   ]
  },
  {
   "cell_type": "code",
   "execution_count": 29,
   "metadata": {
    "collapsed": false
   },
   "outputs": [
    {
     "data": {
      "text/plain": [
       "[<matplotlib.lines.Line2D at 0x10c44fb00>]"
      ]
     },
     "execution_count": 29,
     "metadata": {},
     "output_type": "execute_result"
    },
    {
     "data": {
      "image/png": "[encoded data removed]",
      "text/plain": [
       "<matplotlib.figure.Figure at 0x10c5e6940>"
      ]
     },
     "metadata": {},
     "output_type": "display_data"
    }
   ],
   "source": [
    "# plot simple CFD\n",
    "fig = plt.figure(figsize=[12,4])\n",
    "axes = fig.add_axes([0.1, 0.1, 0.8, 0.8])\n",
    "\n",
    "axes.set_xlabel('Ping latency (ms)')\n",
    "axes.set_ylabel('Cumlative Propability')\n",
    "axes.set_title('Cumulative distribution function')\n",
    "\n",
    "axes.plot(latency_all, tcdf_y)\n"
   ]
  },
  {
   "cell_type": "code",
   "execution_count": null,
   "metadata": {
    "collapsed": true
   },
   "outputs": [],
   "source": []
  },
  {
   "cell_type": "code",
   "execution_count": null,
   "metadata": {
    "collapsed": true
   },
   "outputs": [],
   "source": []
  }
 ],
 "metadata": {
  "kernelspec": {
   "display_name": "Python 3",
   "language": "python",
   "name": "python3"
  },
  "language_info": {
   "codemirror_mode": {
    "name": "ipython",
    "version": 3
   },
   "file_extension": ".py",
   "mimetype": "text/x-python",
   "name": "python",
   "nbconvert_exporter": "python",
   "pygments_lexer": "ipython3",
   "version": "3.4.2"
  }
 },
 "nbformat": 4,
 "nbformat_minor": 0
}
