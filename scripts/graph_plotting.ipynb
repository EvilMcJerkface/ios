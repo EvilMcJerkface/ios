{
 "cells": [
  {
   "cell_type": "code",
   "execution_count": 42,
   "metadata": {
    "collapsed": false
   },
   "outputs": [
    {
     "name": "stdout",
     "output_type": "stream",
     "text": [
      "Populating the interactive namespace from numpy and matplotlib\n"
     ]
    },
    {
     "name": "stderr",
     "output_type": "stream",
     "text": [
      "WARNING: pylab import has clobbered these variables: ['rc', 'axes', 'size']\n",
      "`%matplotlib` prevents importing * from pylab and numpy\n"
     ]
    }
   ],
   "source": [
    "%pylab inline\n",
    "\n",
    "from matplotlib import rc\n",
    "\n",
    "fig_font = {'family':'sans-serif','sans-serif':['Helvetica'],\n",
    "           'serif':['Helvetica'],'size':14}\n",
    "rc('font',**fig_font)\n",
    "rc('legend',fontsize=14, handletextpad=0.5)\n",
    "rc('text', usetex=True)\n",
    "rc('figure', figsize=(3.33,2.22))\n",
    "#  rc('figure.subplot', left=0.10, top=0.90, bottom=0.12, right=0.95)\n",
    "rc('axes', linewidth=0.5, color_cycle= ['#496ee2', '#8e053b', 'm', '#ef9708', 'g', 'c'])\n",
    "rc('lines', linewidth=1)"
   ]
  },
  {
   "cell_type": "code",
   "execution_count": 43,
   "metadata": {
    "collapsed": true
   },
   "outputs": [],
   "source": [
    "def fig_to_file(fig, filename, ext):\n",
    "    fig.savefig(\"graphs/%s.%s\" % (filename, ext), format=ext, bbox_inches='tight')"
   ]
  },
  {
   "cell_type": "code",
   "execution_count": 44,
   "metadata": {
    "collapsed": false,
    "scrolled": true
   },
   "outputs": [
    {
     "name": "stdout",
     "output_type": "stream",
     "text": [
      "[0.631807, 0.674076, 0.710893, 0.724988, 0.741498, 0.760848, 0.787357, 0.794136, 0.796361, 0.798099, 0.807363, 0.826935, 0.83211, 0.846286, 0.859293, 0.861074, 0.872786, 0.878145, 0.882799, 0.883872, 0.888372, 0.891384, 0.898462, 0.901479, 0.905508, 0.907704, 0.909254, 0.909761, 0.913402, 0.916565, 0.918077, 0.91957, 0.924324, 0.924571, 0.9275, 0.927759, 0.928954, 0.930981, 0.936506, 0.940831, 0.942175, 0.942994, 0.946671, 0.953111, 0.958042, 0.958732, 0.960867, 0.968551, 0.969128, 0.970031, 0.971136, 0.975119, 0.975982, 0.97835, 0.980399, 0.981891, 0.983891, 0.984792, 0.991275, 0.992124, 0.993771, 0.998001, 0.999817, 1.00564, 1.008553, 1.013869, 1.015357, 1.01569, 1.01597, 1.021478, 1.023436, 1.025916, 1.028042, 1.028163, 1.030139, 1.031794, 1.032165, 1.033375, 1.034752, 1.034966, 1.035659, 1.040558, 1.040775, 1.040887, 1.041819, 1.049813, 1.050681, 1.051192, 1.052907, 1.05426, 1.054284, 1.054983, 1.056338, 1.057116, 1.062923, 1.0661, 1.066773, 1.068084, 1.06978, 1.069814, 1.070355, 1.071753, 1.083888, 1.092536, 1.093685, 1.094363, 1.094599, 1.096348, 1.101074, 1.101275, 1.102903, 1.104281, 1.105694, 1.10597, 1.109439, 1.113867, 1.119396, 1.120002, 1.123254, 1.123855, 1.1242, 1.125149, 1.126955, 1.128386, 1.130276, 1.133693, 1.135259, 1.136618, 1.138921, 1.139311, 1.139677, 1.147617, 1.148697, 1.148773, 1.150931, 1.157297, 1.16585, 1.176417, 1.182691, 1.18518, 1.185887, 1.187798, 1.188033, 1.190397, 1.197779, 1.198809, 1.202553, 1.211236, 1.214252, 1.220414, 1.222188, 1.224692, 1.229588, 1.231148, 1.238384, 1.246786, 1.248346, 1.256468, 1.256517, 1.283791, 1.284771, 1.290463, 1.296556, 1.304748, 1.307982, 1.3095, 1.309704, 1.312387, 1.313105, 1.320518, 1.323981, 1.325975, 1.332047, 1.342432, 1.347904, 1.351421, 1.355782, 1.359897, 1.36398, 1.368242, 1.385362, 1.392158, 1.404276, 1.427177, 1.430176, 1.436101, 1.451344, 1.460014, 1.465683, 1.467816, 1.474666, 1.491569, 1.495453, 1.498142, 1.498751, 1.505565, 1.507672, 1.511262, 1.51157, 1.515651, 1.516429, 1.516746, 1.522834, 1.53413, 1.572526, 1.575498, 1.577685, 1.60685, 1.61818, 1.623592, 1.686427, 1.687113, 1.706119, 1.816984, 1.83138, 1.86133, 1.882144, 1.883623, 1.916969, 1.929095, 2.05846, 2.075665, 2.313727]\n"
     ]
    }
   ],
   "source": [
    "import csv\n",
    "latency_all=[]\n",
    "for client in range(0,2):\n",
    "    with open('results/latency_'+str(client)+'.csv', newline='') as csvfile:\n",
    "        for row in csv.reader(csvfile):\n",
    "            latency_all.append(int(row[2])/1000000)\n",
    "latency_all.sort()\n",
    "print(latency_all)"
   ]
  },
  {
   "cell_type": "code",
   "execution_count": 45,
   "metadata": {
    "collapsed": true
   },
   "outputs": [],
   "source": [
    "tcdf_y=[]\n",
    "size=len(latency_all)\n",
    "for y in range (1,size+1):\n",
    "    tcdf_y.append(y*100.0/size)"
   ]
  },
  {
   "cell_type": "code",
   "execution_count": 46,
   "metadata": {
    "collapsed": false
   },
   "outputs": [
    {
     "data": {
      "text/plain": [
       "[<matplotlib.lines.Line2D at 0x10f11d630>]"
      ]
     },
     "execution_count": 46,
     "metadata": {},
     "output_type": "execute_result"
    },
    {
     "data": {
      "image/png": "[encoded data removed]",
      "text/plain": [
       "<matplotlib.figure.Figure at 0x10efb0c18>"
      ]
     },
     "metadata": {},
     "output_type": "display_data"
    }
   ],
   "source": [
    "# plot simple CFD\n",
    "fig = plt.figure(figsize=[12,4])\n",
    "axes = fig.add_axes([0.1, 0.1, 0.8, 0.8])\n",
    "\n",
    "axes.set_xlabel('Commit latency (ms)')\n",
    "axes.set_ylabel('Cumlative Propability')\n",
    "axes.set_title('Cumulative distribution function')\n",
    "\n",
    "axes.plot(latency_all, tcdf_y)\n"
   ]
  },
  {
   "cell_type": "code",
   "execution_count": null,
   "metadata": {
    "collapsed": true
   },
   "outputs": [],
   "source": []
  },
  {
   "cell_type": "code",
   "execution_count": null,
   "metadata": {
    "collapsed": true
   },
   "outputs": [],
   "source": []
  }
 ],
 "metadata": {
  "kernelspec": {
   "display_name": "Python 3",
   "language": "python",
   "name": "python3"
  },
  "language_info": {
   "codemirror_mode": {
    "name": "ipython",
    "version": 3
   },
   "file_extension": ".py",
   "mimetype": "text/x-python",
   "name": "python",
   "nbconvert_exporter": "python",
   "pygments_lexer": "ipython3",
   "version": "3.4.2"
  }
 },
 "nbformat": 4,
 "nbformat_minor": 0
}
