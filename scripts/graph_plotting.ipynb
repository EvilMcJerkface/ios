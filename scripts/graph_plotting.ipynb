{
 "cells": [
  {
   "cell_type": "code",
   "execution_count": 11,
   "metadata": {
    "collapsed": false
   },
   "outputs": [
    {
     "name": "stdout",
     "output_type": "stream",
     "text": [
      "Populating the interactive namespace from numpy and matplotlib\n"
     ]
    },
    {
     "name": "stderr",
     "output_type": "stream",
     "text": [
      "WARNING: pylab import has clobbered these variables: ['rc', 'axes', 'size']\n",
      "`%matplotlib` prevents importing * from pylab and numpy\n"
     ]
    }
   ],
   "source": [
    "%pylab inline\n",
    "\n",
    "from matplotlib import rc\n",
    "\n",
    "fig_font = {'family':'sans-serif','sans-serif':['Helvetica'],\n",
    "           'serif':['Helvetica'],'size':14}\n",
    "rc('font',**fig_font)\n",
    "rc('legend',fontsize=14, handletextpad=0.5)\n",
    "rc('text', usetex=True)\n",
    "rc('figure', figsize=(3.33,2.22))\n",
    "#  rc('figure.subplot', left=0.10, top=0.90, bottom=0.12, right=0.95)\n",
    "rc('axes', linewidth=0.5, color_cycle= ['#496ee2', '#8e053b', 'm', '#ef9708', 'g', 'c'])\n",
    "rc('lines', linewidth=1)"
   ]
  },
  {
   "cell_type": "code",
   "execution_count": 12,
   "metadata": {
    "collapsed": true
   },
   "outputs": [],
   "source": [
    "def fig_to_file(fig, filename, ext):\n",
    "    fig.savefig(\"graphs/%s.%s\" % (filename, ext), format=ext, bbox_inches='tight')"
   ]
  },
  {
   "cell_type": "code",
   "execution_count": 16,
   "metadata": {
    "collapsed": false,
    "scrolled": true
   },
   "outputs": [
    {
     "name": "stdout",
     "output_type": "stream",
     "text": [
      "[0.891676, 0.9522970000000001, 0.970876, 1.000087, 1.0405419999999999, 1.0465689999999999, 1.073108, 1.110375, 1.112069, 1.118111, 1.159818, 1.230534, 1.231825, 1.2390619999999999, 1.247557, 1.254551, 1.289954, 1.305032, 1.307258, 1.370447, 1.5303820000000001, 1.58233, 1.601131, 1.6482860000000001]\n"
     ]
    }
   ],
   "source": [
    "import csv\n",
    "latency_all=[]\n",
    "for client in range(0,2):\n",
    "    with open('results/latency_'+str(client)+'.csv', newline='') as csvfile:\n",
    "        for row in csv.reader(csvfile):\n",
    "            latency_all.append(int(row[2])/1000/1000)\n",
    "latency_all.sort()\n",
    "print(latency_all)"
   ]
  },
  {
   "cell_type": "code",
   "execution_count": 17,
   "metadata": {
    "collapsed": true
   },
   "outputs": [],
   "source": [
    "tcdf_y=[]\n",
    "size=len(latency_all)\n",
    "for y in range (1,size+1):\n",
    "    tcdf_y.append(y*100.0/size)"
   ]
  },
  {
   "cell_type": "code",
   "execution_count": 18,
   "metadata": {
    "collapsed": false
   },
   "outputs": [
    {
     "data": {
      "text/plain": [
       "[<matplotlib.lines.Line2D at 0x10e9b7400>]"
      ]
     },
     "execution_count": 18,
     "metadata": {},
     "output_type": "execute_result"
    },
    {
     "data": {
      "image/png": "[encoded data removed]",
      "text/plain": [
       "<matplotlib.figure.Figure at 0x10e87bdd8>"
      ]
     },
     "metadata": {},
     "output_type": "display_data"
    }
   ],
   "source": [
    "# plot simple CFD\n",
    "fig = plt.figure(figsize=[12,4])\n",
    "axes = fig.add_axes([0.1, 0.1, 0.8, 0.8])\n",
    "\n",
    "axes.set_xlabel('Commit latency (ms)')\n",
    "axes.set_ylabel('Cumlative Propability')\n",
    "axes.set_title('Cumulative distribution function')\n",
    "\n",
    "axes.plot(latency_all, tcdf_y)\n"
   ]
  },
  {
   "cell_type": "code",
   "execution_count": null,
   "metadata": {
    "collapsed": true
   },
   "outputs": [],
   "source": []
  },
  {
   "cell_type": "code",
   "execution_count": null,
   "metadata": {
    "collapsed": true
   },
   "outputs": [],
   "source": []
  }
 ],
 "metadata": {
  "kernelspec": {
   "display_name": "Python 3",
   "language": "python",
   "name": "python3"
  },
  "language_info": {
   "codemirror_mode": {
    "name": "ipython",
    "version": 3
   },
   "file_extension": ".py",
   "mimetype": "text/x-python",
   "name": "python",
   "nbconvert_exporter": "python",
   "pygments_lexer": "ipython3",
   "version": "3.4.2"
  }
 },
 "nbformat": 4,
 "nbformat_minor": 0
}
